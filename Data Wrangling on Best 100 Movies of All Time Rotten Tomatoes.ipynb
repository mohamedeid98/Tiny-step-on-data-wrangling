{
 "cells": [
  {
   "cell_type": "markdown",
   "id": "1e34f8ab-e236-4c26-91b1-77e89c6a1a32",
   "metadata": {},
   "source": [
    "# __Data Wrangling on Best 100 Movies of All Time Rotten Tomatoes__"
   ]
  },
  {
   "cell_type": "code",
   "execution_count": 120,
   "id": "a6dbcdcc-986d-48cc-ae22-ffb57a0980b8",
   "metadata": {},
   "outputs": [],
   "source": [
    "import os\n",
    "import pandas as pd\n",
    "from bs4 import BeautifulSoup # to parse the html files\n",
    "import requests\n",
    "import wptools\n",
    "from PIL import Image\n",
    "from io import BytesIO\n",
    "from wordcloud import WordCloud\n",
    "import matplotlib.pyplot as plt\n",
    "import numpy as np"
   ]
  },
  {
   "cell_type": "markdown",
   "id": "7c58ecde-e232-4343-913d-ac7f57045d13",
   "metadata": {},
   "source": [
    "<font size=\"4\">In this project I am provided by the critic rating dataset(`bestofrt.csv`) and the html files of the top 100 rated movies of all time on rotten tomatoes in `rt_html` folder and the goal is to scrap the audience rating and some other cool stuff.</font>"
   ]
  },
  {
   "cell_type": "markdown",
   "id": "80409cae-e84a-44fa-bd0c-97fed3f3fd30",
   "metadata": {},
   "source": [
    "# __Data Gathering__"
   ]
  },
  {
   "cell_type": "markdown",
   "id": "cd9c4d1f-0307-42c7-a5a4-95589e53dd0c",
   "metadata": {},
   "source": [
    "### __1. Get the Audience Rating__"
   ]
  },
  {
   "cell_type": "code",
   "execution_count": 12,
   "id": "172adb3b-a04a-41ed-a649-f818000d9a72",
   "metadata": {
    "scrolled": true
   },
   "outputs": [
    {
     "data": {
      "text/plain": [
       "[{'title': '12 Angry Men (Twelve Angry Men)\\xa0(1957)',\n",
       "  'audience_score': 97,\n",
       "  'number_of_audience_ratings': 103672},\n",
       " {'title': 'The 39 Steps\\xa0(1935)',\n",
       "  'audience_score': 86,\n",
       "  'number_of_audience_ratings': 23647},\n",
       " {'title': 'The Adventures of Robin Hood\\xa0(1938)',\n",
       "  'audience_score': 89,\n",
       "  'number_of_audience_ratings': 33584},\n",
       " {'title': 'All About Eve\\xa0(1950)',\n",
       "  'audience_score': 94,\n",
       "  'number_of_audience_ratings': 44564},\n",
       " {'title': 'All Quiet on the Western Front\\xa0(1930)',\n",
       "  'audience_score': 89,\n",
       "  'number_of_audience_ratings': 17768},\n",
       " {'title': 'Casablanca\\xa0(1942)',\n",
       "  'audience_score': 95,\n",
       "  'number_of_audience_ratings': 355952},\n",
       " {'title': 'Frankenstein\\xa0(1931)',\n",
       "  'audience_score': 87,\n",
       "  'number_of_audience_ratings': 41140},\n",
       " {'title': 'King Kong\\xa0(1933)',\n",
       "  'audience_score': 86,\n",
       "  'number_of_audience_ratings': 89669},\n",
       " {'title': 'Laura\\xa0(1944)',\n",
       "  'audience_score': 91,\n",
       "  'number_of_audience_ratings': 10481},\n",
       " {'title': 'M\\xa0(1931)',\n",
       "  'audience_score': 95,\n",
       "  'number_of_audience_ratings': 35778},\n",
       " {'title': 'The Maltese Falcon\\xa0(1941)',\n",
       "  'audience_score': 91,\n",
       "  'number_of_audience_ratings': 57268},\n",
       " {'title': 'Metropolis\\xa0(1927)',\n",
       "  'audience_score': 92,\n",
       "  'number_of_audience_ratings': 62018},\n",
       " {'title': 'Rear Window\\xa0(1954)',\n",
       "  'audience_score': 95,\n",
       "  'number_of_audience_ratings': 149458},\n",
       " {'title': 'Rebecca\\xa0(1940)',\n",
       "  'audience_score': 92,\n",
       "  'number_of_audience_ratings': 39026},\n",
       " {'title': 'A Streetcar Named Desire\\xa0(1951)',\n",
       "  'audience_score': 90,\n",
       "  'number_of_audience_ratings': 54761},\n",
       " {'title': 'Touch of Evil\\xa0(1958)',\n",
       "  'audience_score': 92,\n",
       "  'number_of_audience_ratings': 30867},\n",
       " {'title': 'High Noon\\xa0(1952)',\n",
       "  'audience_score': 89,\n",
       "  'number_of_audience_ratings': 25065},\n",
       " {'title': 'Snow White and the Seven Dwarfs\\xa0(1937)',\n",
       "  'audience_score': 78,\n",
       "  'number_of_audience_ratings': 469510},\n",
       " {'title': '12 Years a Slave\\xa0(2013)',\n",
       "  'audience_score': 90,\n",
       "  'number_of_audience_ratings': 138789},\n",
       " {'title': 'The 400 Blows (Les Quatre cents coups)\\xa0(1959)',\n",
       "  'audience_score': 94,\n",
       "  'number_of_audience_ratings': 38368},\n",
       " {'title': 'Alien\\xa0(1979)',\n",
       "  'audience_score': 94,\n",
       "  'number_of_audience_ratings': 457186},\n",
       " {'title': 'Apocalypse Now\\xa0(1979)',\n",
       "  'audience_score': 94,\n",
       "  'number_of_audience_ratings': 284606},\n",
       " {'title': 'Argo\\xa0(2012)',\n",
       "  'audience_score': 90,\n",
       "  'number_of_audience_ratings': 207373},\n",
       " {'title': \"Army of Shadows (L'ArmÃ©e des ombres)\\xa0(1969)\",\n",
       "  'audience_score': 94,\n",
       "  'number_of_audience_ratings': 7011},\n",
       " {'title': 'Arrival\\xa0(2016)',\n",
       "  'audience_score': 82,\n",
       "  'number_of_audience_ratings': 78740},\n",
       " {'title': 'Baby Driver\\xa0(2017)',\n",
       "  'audience_score': 89,\n",
       "  'number_of_audience_ratings': 48114},\n",
       " {'title': 'Battleship Potemkin\\xa0(1925)',\n",
       "  'audience_score': 85,\n",
       "  'number_of_audience_ratings': 18709},\n",
       " {'title': \"A Hard Day's Night\\xa0(1964)\",\n",
       "  'audience_score': 89,\n",
       "  'number_of_audience_ratings': 50067},\n",
       " {'title': 'Bicycle Thieves (Ladri di biciclette)\\xa0(1949)',\n",
       "  'audience_score': 94,\n",
       "  'number_of_audience_ratings': 33723},\n",
       " {'title': 'Boyhood\\xa0(2014)',\n",
       "  'audience_score': 81,\n",
       "  'number_of_audience_ratings': 88478},\n",
       " {'title': 'The Bride of Frankenstein\\xa0(1935)',\n",
       "  'audience_score': 87,\n",
       "  'number_of_audience_ratings': 24471},\n",
       " {'title': 'Brooklyn\\xa0(2015)',\n",
       "  'audience_score': 87,\n",
       "  'number_of_audience_ratings': 45763},\n",
       " {'title': 'Citizen Kane\\xa0(1941)',\n",
       "  'audience_score': 90,\n",
       "  'number_of_audience_ratings': 157274},\n",
       " {'title': 'Dr. Strangelove Or How I Learned to Stop Worrying and Love the Bomb\\xa0(1964)',\n",
       "  'audience_score': 94,\n",
       "  'number_of_audience_ratings': 208215},\n",
       " {'title': 'Dunkirk\\xa0(2017)',\n",
       "  'audience_score': 82,\n",
       "  'number_of_audience_ratings': 53555},\n",
       " {'title': 'E.T. The Extra-Terrestrial\\xa0(1982)',\n",
       "  'audience_score': 72,\n",
       "  'number_of_audience_ratings': 32313030},\n",
       " {'title': 'Finding Nemo\\xa0(2003)',\n",
       "  'audience_score': 86,\n",
       "  'number_of_audience_ratings': 33355673},\n",
       " {'title': 'Get Out\\xa0(2017)',\n",
       "  'audience_score': 87,\n",
       "  'number_of_audience_ratings': 63837},\n",
       " {'title': 'The Godfather\\xa0(1972)',\n",
       "  'audience_score': 98,\n",
       "  'number_of_audience_ratings': 730433},\n",
       " {'title': 'The Godfather, Part II\\xa0(1974)',\n",
       "  'audience_score': 97,\n",
       "  'number_of_audience_ratings': 409574},\n",
       " {'title': 'Gone With the Wind\\xa0(1939)',\n",
       "  'audience_score': 93,\n",
       "  'number_of_audience_ratings': 292794},\n",
       " {'title': 'The Grapes of Wrath\\xa0(1940)',\n",
       "  'audience_score': 88,\n",
       "  'number_of_audience_ratings': 23954},\n",
       " {'title': 'Gravity\\xa0(2013)',\n",
       "  'audience_score': 80,\n",
       "  'number_of_audience_ratings': 301261},\n",
       " {'title': 'Harry Potter and the Deathly Hallows - Part 2\\xa0(2011)',\n",
       "  'audience_score': 89,\n",
       "  'number_of_audience_ratings': 389431},\n",
       " {'title': 'Hell or High Water\\xa0(2016)',\n",
       "  'audience_score': 88,\n",
       "  'number_of_audience_ratings': 37738},\n",
       " {'title': 'Inside Out\\xa0(2015)',\n",
       "  'audience_score': 89,\n",
       "  'number_of_audience_ratings': 133558},\n",
       " {'title': 'It Happened One Night\\xa0(1934)',\n",
       "  'audience_score': 93,\n",
       "  'number_of_audience_ratings': 33106},\n",
       " {'title': 'Jaws\\xa0(1975)',\n",
       "  'audience_score': 90,\n",
       "  'number_of_audience_ratings': 942217},\n",
       " {'title': 'The Last Picture Show\\xa0(1971)',\n",
       "  'audience_score': 90,\n",
       "  'number_of_audience_ratings': 13893},\n",
       " {'title': 'L.A. Confidential\\xa0(1997)',\n",
       "  'audience_score': 94,\n",
       "  'number_of_audience_ratings': 149772},\n",
       " {'title': 'La Grande illusion (Grand Illusion)\\xa0(1938)',\n",
       "  'audience_score': 92,\n",
       "  'number_of_audience_ratings': 11490},\n",
       " {'title': 'La La Land\\xa0(2016)',\n",
       "  'audience_score': 82,\n",
       "  'number_of_audience_ratings': 67325},\n",
       " {'title': 'Logan\\xa0(2017)',\n",
       "  'audience_score': 91,\n",
       "  'number_of_audience_ratings': 86540},\n",
       " {'title': 'Mad Max: Fury Road\\xa0(2015)',\n",
       "  'audience_score': 86,\n",
       "  'number_of_audience_ratings': 123937},\n",
       " {'title': 'Manchester by the Sea\\xa0(2016)',\n",
       "  'audience_score': 77,\n",
       "  'number_of_audience_ratings': 48189},\n",
       " {'title': 'Man on Wire\\xa0(2008)',\n",
       "  'audience_score': 87,\n",
       "  'number_of_audience_ratings': 29827},\n",
       " {'title': 'Modern Times\\xa0(1936)',\n",
       "  'audience_score': 95,\n",
       "  'number_of_audience_ratings': 39736},\n",
       " {'title': 'Moonlight\\xa0(2016)',\n",
       "  'audience_score': 80,\n",
       "  'number_of_audience_ratings': 41956},\n",
       " {'title': 'The Night of the Hunter\\xa0(1955)',\n",
       "  'audience_score': 90,\n",
       "  'number_of_audience_ratings': 24322},\n",
       " {'title': 'North by Northwest\\xa0(1959)',\n",
       "  'audience_score': 94,\n",
       "  'number_of_audience_ratings': 78793},\n",
       " {'title': 'Nosferatu, a Symphony of Horror (Nosferatu, eine Symphonie des Grauens) (Nosferatu the Vampire)\\xa0(1922)',\n",
       "  'audience_score': 87,\n",
       "  'number_of_audience_ratings': 47463},\n",
       " {'title': 'On the Waterfront\\xa0(1954)',\n",
       "  'audience_score': 95,\n",
       "  'number_of_audience_ratings': 51664},\n",
       " {'title': 'Open City\\xa0(1946)',\n",
       "  'audience_score': 92,\n",
       "  'number_of_audience_ratings': 6128},\n",
       " {'title': 'The Philadelphia Story\\xa0(1940)',\n",
       "  'audience_score': 93,\n",
       "  'number_of_audience_ratings': 46810},\n",
       " {'title': 'Pinocchio\\xa0(1940)',\n",
       "  'audience_score': 72,\n",
       "  'number_of_audience_ratings': 278682},\n",
       " {'title': 'Psycho\\xa0(1960)',\n",
       "  'audience_score': 94,\n",
       "  'number_of_audience_ratings': 238259},\n",
       " {'title': 'RashÃ´mon\\xa0(1951)',\n",
       "  'audience_score': 93,\n",
       "  'number_of_audience_ratings': 47657},\n",
       " {'title': 'Repulsion\\xa0(1965)',\n",
       "  'audience_score': 87,\n",
       "  'number_of_audience_ratings': 18655},\n",
       " {'title': 'Roman Holiday\\xa0(1953)',\n",
       "  'audience_score': 94,\n",
       "  'number_of_audience_ratings': 62895},\n",
       " {'title': \"Rosemary's Baby\\xa0(1968)\",\n",
       "  'audience_score': 87,\n",
       "  'number_of_audience_ratings': 72669},\n",
       " {'title': 'Selma\\xa0(2015)',\n",
       "  'audience_score': 86,\n",
       "  'number_of_audience_ratings': 60533},\n",
       " {'title': 'Seven Samurai (Shichinin no Samurai)\\xa0(1956)',\n",
       "  'audience_score': 97,\n",
       "  'number_of_audience_ratings': 90049},\n",
       " {'title': \"Singin' in the Rain\\xa0(1952)\",\n",
       "  'audience_score': 95,\n",
       "  'number_of_audience_ratings': 137643},\n",
       " {'title': 'Skyfall\\xa0(2012)',\n",
       "  'audience_score': 86,\n",
       "  'number_of_audience_ratings': 372497},\n",
       " {'title': 'Spotlight\\xa0(2015)',\n",
       "  'audience_score': 93,\n",
       "  'number_of_audience_ratings': 68142},\n",
       " {'title': 'Star Trek\\xa0(2009)',\n",
       "  'audience_score': 91,\n",
       "  'number_of_audience_ratings': 746458},\n",
       " {'title': 'Star Wars: Episode VII - The Force Awakens\\xa0(2015)',\n",
       "  'audience_score': 89,\n",
       "  'number_of_audience_ratings': 222789},\n",
       " {'title': 'Sunset Boulevard\\xa0(1950)',\n",
       "  'audience_score': 95,\n",
       "  'number_of_audience_ratings': 52783},\n",
       " {'title': 'Taxi Driver\\xa0(1976)',\n",
       "  'audience_score': 93,\n",
       "  'number_of_audience_ratings': 258405},\n",
       " {'title': 'The Babadook\\xa0(2014)',\n",
       "  'audience_score': 72,\n",
       "  'number_of_audience_ratings': 37024},\n",
       " {'title': 'The Battle of Algiers (La Battaglia di Algeri)\\xa0(1967)',\n",
       "  'audience_score': 95,\n",
       "  'number_of_audience_ratings': 14267},\n",
       " {'title': 'The Big Sick\\xa0(2017)',\n",
       "  'audience_score': 90,\n",
       "  'number_of_audience_ratings': 23391},\n",
       " {'title': 'The Cabinet of Dr. Caligari (Das Cabinet des Dr. Caligari)\\xa0(1920)',\n",
       "  'audience_score': 89,\n",
       "  'number_of_audience_ratings': 27163},\n",
       " {'title': 'The Conformist\\xa0(1970)',\n",
       "  'audience_score': 91,\n",
       "  'number_of_audience_ratings': 8529},\n",
       " {'title': 'The Dark Knight\\xa0(2008)',\n",
       "  'audience_score': 94,\n",
       "  'number_of_audience_ratings': 1827436},\n",
       " {'title': 'The Good, the Bad and the Ugly\\xa0(1966)',\n",
       "  'audience_score': 97,\n",
       "  'number_of_audience_ratings': 238420},\n",
       " {'title': 'The Jungle Book\\xa0(2016)',\n",
       "  'audience_score': 86,\n",
       "  'number_of_audience_ratings': 92856},\n",
       " {'title': 'The Third Man\\xa0(1949)',\n",
       "  'audience_score': 93,\n",
       "  'number_of_audience_ratings': 53081},\n",
       " {'title': 'The Wizard of Oz\\xa0(1939)',\n",
       "  'audience_score': 89,\n",
       "  'number_of_audience_ratings': 874425},\n",
       " {'title': 'The Wrestler\\xa0(2008)',\n",
       "  'audience_score': 88,\n",
       "  'number_of_audience_ratings': 139795},\n",
       " {'title': 'Tokyo Story (TÃ´kyÃ´ monogatari)\\xa0(1953)',\n",
       "  'audience_score': 93,\n",
       "  'number_of_audience_ratings': 11325},\n",
       " {'title': 'Toy Story\\xa0(1995)',\n",
       "  'audience_score': 92,\n",
       "  'number_of_audience_ratings': 1107731},\n",
       " {'title': 'Toy Story 2\\xa0(1999)',\n",
       "  'audience_score': 86,\n",
       "  'number_of_audience_ratings': 998186},\n",
       " {'title': 'Toy Story 3\\xa0(2010)',\n",
       "  'audience_score': 89,\n",
       "  'number_of_audience_ratings': 605098},\n",
       " {'title': 'The Treasure of the Sierra Madre\\xa0(1948)',\n",
       "  'audience_score': 93,\n",
       "  'number_of_audience_ratings': 25627},\n",
       " {'title': 'Up\\xa0(2009)',\n",
       "  'audience_score': 90,\n",
       "  'number_of_audience_ratings': 1201878},\n",
       " {'title': 'Vertigo\\xa0(1958)',\n",
       "  'audience_score': 93,\n",
       "  'number_of_audience_ratings': 101454},\n",
       " {'title': 'The Wages of Fear\\xa0(1953)',\n",
       "  'audience_score': 95,\n",
       "  'number_of_audience_ratings': 8536},\n",
       " {'title': 'Wonder Woman\\xa0(2017)',\n",
       "  'audience_score': 90,\n",
       "  'number_of_audience_ratings': 112955},\n",
       " {'title': 'Zootopia\\xa0(2016)',\n",
       "  'audience_score': 92,\n",
       "  'number_of_audience_ratings': 98633}]"
      ]
     },
     "execution_count": 12,
     "metadata": {},
     "output_type": "execute_result"
    }
   ],
   "source": [
    "# Parse html files and get the desired information\n",
    "\n",
    "lst = [] # Empty list to be appended with dictionary of each movie as rows for the dataframe.\n",
    "html_foldername = 'rt_html' # Folder contain the html files for each movie of rotten tomatoes top 100 list\n",
    "\n",
    "files = os.listdir(html_foldername) # Get html file names in a list\n",
    "files = [os.path.join(html_foldername, file) for file in files] \n",
    "\n",
    "for file in files:\n",
    "    with open(file) as fp:\n",
    "        soup = BeautifulSoup(fp)\n",
    "        title = soup.find('title').contents[0][:-len(' - Rotten Tomatoes')]\n",
    "        score = int(soup.find('div', 'audience-score meter').find('span').contents[0][:-1])\n",
    "        ratings = int(soup.find('div', class_=\"audience-info\").find_all('div')[1].contents[2].replace(',',''))\n",
    "\n",
    "    lst.append({'title': title, 'audience_score':score, 'number_of_audience_ratings':ratings})\n",
    "\n",
    "lst"
   ]
  },
  {
   "cell_type": "code",
   "execution_count": 20,
   "id": "ec2e32b3-ef86-4188-a096-56c44bc766cf",
   "metadata": {},
   "outputs": [
    {
     "data": {
      "text/html": [
       "<div>\n",
       "<style scoped>\n",
       "    .dataframe tbody tr th:only-of-type {\n",
       "        vertical-align: middle;\n",
       "    }\n",
       "\n",
       "    .dataframe tbody tr th {\n",
       "        vertical-align: top;\n",
       "    }\n",
       "\n",
       "    .dataframe thead th {\n",
       "        text-align: right;\n",
       "    }\n",
       "</style>\n",
       "<table border=\"1\" class=\"dataframe\">\n",
       "  <thead>\n",
       "    <tr style=\"text-align: right;\">\n",
       "      <th></th>\n",
       "      <th>title</th>\n",
       "      <th>audience_score</th>\n",
       "      <th>number_of_audience_ratings</th>\n",
       "    </tr>\n",
       "  </thead>\n",
       "  <tbody>\n",
       "    <tr>\n",
       "      <th>0</th>\n",
       "      <td>12 Angry Men (Twelve Angry Men) (1957)</td>\n",
       "      <td>97</td>\n",
       "      <td>103672</td>\n",
       "    </tr>\n",
       "    <tr>\n",
       "      <th>1</th>\n",
       "      <td>The 39 Steps (1935)</td>\n",
       "      <td>86</td>\n",
       "      <td>23647</td>\n",
       "    </tr>\n",
       "    <tr>\n",
       "      <th>2</th>\n",
       "      <td>The Adventures of Robin Hood (1938)</td>\n",
       "      <td>89</td>\n",
       "      <td>33584</td>\n",
       "    </tr>\n",
       "    <tr>\n",
       "      <th>3</th>\n",
       "      <td>All About Eve (1950)</td>\n",
       "      <td>94</td>\n",
       "      <td>44564</td>\n",
       "    </tr>\n",
       "    <tr>\n",
       "      <th>4</th>\n",
       "      <td>All Quiet on the Western Front (1930)</td>\n",
       "      <td>89</td>\n",
       "      <td>17768</td>\n",
       "    </tr>\n",
       "  </tbody>\n",
       "</table>\n",
       "</div>"
      ],
      "text/plain": [
       "                                    title  audience_score  \\\n",
       "0  12 Angry Men (Twelve Angry Men) (1957)              97   \n",
       "1                     The 39 Steps (1935)              86   \n",
       "2     The Adventures of Robin Hood (1938)              89   \n",
       "3                    All About Eve (1950)              94   \n",
       "4   All Quiet on the Western Front (1930)              89   \n",
       "\n",
       "   number_of_audience_ratings  \n",
       "0                      103672  \n",
       "1                       23647  \n",
       "2                       33584  \n",
       "3                       44564  \n",
       "4                       17768  "
      ]
     },
     "execution_count": 20,
     "metadata": {},
     "output_type": "execute_result"
    }
   ],
   "source": [
    "# Create a dataframe from the list to be merged with the provided one.\n",
    "df = pd.DataFrame(lst)\n",
    "df.head()"
   ]
  },
  {
   "cell_type": "markdown",
   "id": "0d617d43-b5b4-4e24-b374-95af8eda0ff3",
   "metadata": {},
   "source": [
    "<font size=\"4\">If you tried to print the movie title you will notice that it has `\\xa0` and this is different from the provided dataset. So we have to fix this to be able to merge the two datasets."
   ]
  },
  {
   "cell_type": "code",
   "execution_count": 22,
   "id": "888e89c3-2555-4172-b180-9068b361e432",
   "metadata": {},
   "outputs": [
    {
     "data": {
      "text/plain": [
       "'12 Angry Men (Twelve Angry Men)\\xa0(1957)'"
      ]
     },
     "execution_count": 22,
     "metadata": {},
     "output_type": "execute_result"
    }
   ],
   "source": [
    "df['title'][0]"
   ]
  },
  {
   "cell_type": "code",
   "execution_count": 25,
   "id": "3a6782a3-113c-45d6-adec-8bee5072c551",
   "metadata": {},
   "outputs": [],
   "source": [
    "fixed_titles = [title.replace('\\xa0', ' ') for title in df['title'].values]\n",
    "df['title'] = fixed_titles"
   ]
  },
  {
   "cell_type": "code",
   "execution_count": 27,
   "id": "68d90037-b1d9-4806-8d97-35ce16a05551",
   "metadata": {},
   "outputs": [
    {
     "data": {
      "text/plain": [
       "'12 Angry Men (Twelve Angry Men) (1957)'"
      ]
     },
     "execution_count": 27,
     "metadata": {},
     "output_type": "execute_result"
    }
   ],
   "source": [
    "df['title'][0]"
   ]
  },
  {
   "cell_type": "markdown",
   "id": "62988e67-44ee-43af-a899-9973e23b607b",
   "metadata": {},
   "source": [
    "<font size=\"5\">Merging the two datasets</font>"
   ]
  },
  {
   "cell_type": "code",
   "execution_count": 33,
   "id": "e7844584-d01b-4b6e-ab25-0c745599264d",
   "metadata": {},
   "outputs": [
    {
     "data": {
      "text/html": [
       "<div>\n",
       "<style scoped>\n",
       "    .dataframe tbody tr th:only-of-type {\n",
       "        vertical-align: middle;\n",
       "    }\n",
       "\n",
       "    .dataframe tbody tr th {\n",
       "        vertical-align: top;\n",
       "    }\n",
       "\n",
       "    .dataframe thead th {\n",
       "        text-align: right;\n",
       "    }\n",
       "</style>\n",
       "<table border=\"1\" class=\"dataframe\">\n",
       "  <thead>\n",
       "    <tr style=\"text-align: right;\">\n",
       "      <th></th>\n",
       "      <th>ranking</th>\n",
       "      <th>critic_score</th>\n",
       "      <th>title</th>\n",
       "      <th>number_of_critic_ratings</th>\n",
       "    </tr>\n",
       "  </thead>\n",
       "  <tbody>\n",
       "    <tr>\n",
       "      <th>0</th>\n",
       "      <td>1</td>\n",
       "      <td>99</td>\n",
       "      <td>The Wizard of Oz (1939)</td>\n",
       "      <td>110</td>\n",
       "    </tr>\n",
       "    <tr>\n",
       "      <th>1</th>\n",
       "      <td>2</td>\n",
       "      <td>100</td>\n",
       "      <td>Citizen Kane (1941)</td>\n",
       "      <td>75</td>\n",
       "    </tr>\n",
       "    <tr>\n",
       "      <th>2</th>\n",
       "      <td>3</td>\n",
       "      <td>100</td>\n",
       "      <td>The Third Man (1949)</td>\n",
       "      <td>77</td>\n",
       "    </tr>\n",
       "    <tr>\n",
       "      <th>3</th>\n",
       "      <td>4</td>\n",
       "      <td>99</td>\n",
       "      <td>Get Out (2017)</td>\n",
       "      <td>282</td>\n",
       "    </tr>\n",
       "    <tr>\n",
       "      <th>4</th>\n",
       "      <td>5</td>\n",
       "      <td>97</td>\n",
       "      <td>Mad Max: Fury Road (2015)</td>\n",
       "      <td>370</td>\n",
       "    </tr>\n",
       "  </tbody>\n",
       "</table>\n",
       "</div>"
      ],
      "text/plain": [
       "   ranking  critic_score                      title  number_of_critic_ratings\n",
       "0        1            99    The Wizard of Oz (1939)                       110\n",
       "1        2           100        Citizen Kane (1941)                        75\n",
       "2        3           100       The Third Man (1949)                        77\n",
       "3        4            99             Get Out (2017)                       282\n",
       "4        5            97  Mad Max: Fury Road (2015)                       370"
      ]
     },
     "execution_count": 33,
     "metadata": {},
     "output_type": "execute_result"
    }
   ],
   "source": [
    "df_critic = pd.read_csv('bestofrt.tsv', sep='\\t')\n",
    "df_critic.head()"
   ]
  },
  {
   "cell_type": "code",
   "execution_count": 37,
   "id": "2df4e775-4a27-4840-8ef0-95dce7741bc9",
   "metadata": {},
   "outputs": [
    {
     "data": {
      "text/html": [
       "<div>\n",
       "<style scoped>\n",
       "    .dataframe tbody tr th:only-of-type {\n",
       "        vertical-align: middle;\n",
       "    }\n",
       "\n",
       "    .dataframe tbody tr th {\n",
       "        vertical-align: top;\n",
       "    }\n",
       "\n",
       "    .dataframe thead th {\n",
       "        text-align: right;\n",
       "    }\n",
       "</style>\n",
       "<table border=\"1\" class=\"dataframe\">\n",
       "  <thead>\n",
       "    <tr style=\"text-align: right;\">\n",
       "      <th></th>\n",
       "      <th>ranking</th>\n",
       "      <th>critic_score</th>\n",
       "      <th>title</th>\n",
       "      <th>number_of_critic_ratings</th>\n",
       "      <th>audience_score</th>\n",
       "      <th>number_of_audience_ratings</th>\n",
       "    </tr>\n",
       "  </thead>\n",
       "  <tbody>\n",
       "    <tr>\n",
       "      <th>0</th>\n",
       "      <td>1</td>\n",
       "      <td>99</td>\n",
       "      <td>The Wizard of Oz (1939)</td>\n",
       "      <td>110</td>\n",
       "      <td>89.0</td>\n",
       "      <td>874425.0</td>\n",
       "    </tr>\n",
       "    <tr>\n",
       "      <th>1</th>\n",
       "      <td>2</td>\n",
       "      <td>100</td>\n",
       "      <td>Citizen Kane (1941)</td>\n",
       "      <td>75</td>\n",
       "      <td>90.0</td>\n",
       "      <td>157274.0</td>\n",
       "    </tr>\n",
       "    <tr>\n",
       "      <th>2</th>\n",
       "      <td>3</td>\n",
       "      <td>100</td>\n",
       "      <td>The Third Man (1949)</td>\n",
       "      <td>77</td>\n",
       "      <td>93.0</td>\n",
       "      <td>53081.0</td>\n",
       "    </tr>\n",
       "    <tr>\n",
       "      <th>3</th>\n",
       "      <td>4</td>\n",
       "      <td>99</td>\n",
       "      <td>Get Out (2017)</td>\n",
       "      <td>282</td>\n",
       "      <td>87.0</td>\n",
       "      <td>63837.0</td>\n",
       "    </tr>\n",
       "    <tr>\n",
       "      <th>4</th>\n",
       "      <td>5</td>\n",
       "      <td>97</td>\n",
       "      <td>Mad Max: Fury Road (2015)</td>\n",
       "      <td>370</td>\n",
       "      <td>86.0</td>\n",
       "      <td>123937.0</td>\n",
       "    </tr>\n",
       "  </tbody>\n",
       "</table>\n",
       "</div>"
      ],
      "text/plain": [
       "   ranking  critic_score                      title  number_of_critic_ratings  \\\n",
       "0        1            99    The Wizard of Oz (1939)                       110   \n",
       "1        2           100        Citizen Kane (1941)                        75   \n",
       "2        3           100       The Third Man (1949)                        77   \n",
       "3        4            99             Get Out (2017)                       282   \n",
       "4        5            97  Mad Max: Fury Road (2015)                       370   \n",
       "\n",
       "   audience_score  number_of_audience_ratings  \n",
       "0            89.0                    874425.0  \n",
       "1            90.0                    157274.0  \n",
       "2            93.0                     53081.0  \n",
       "3            87.0                     63837.0  \n",
       "4            86.0                    123937.0  "
      ]
     },
     "execution_count": 37,
     "metadata": {},
     "output_type": "execute_result"
    }
   ],
   "source": [
    "# Merging on the title column on the left\n",
    "df_merged = df_critic.merge(df, on='title', how='left')\n",
    "df_merged.head()"
   ]
  },
  {
   "cell_type": "code",
   "execution_count": 39,
   "id": "560bac34-c4c5-4bcf-92a9-db5fb5c49bda",
   "metadata": {},
   "outputs": [],
   "source": [
    "# Save the new dataset into a csv file\n",
    "df_merged.to_csv('critic_audience_ratings.csv', index=False)"
   ]
  },
  {
   "cell_type": "markdown",
   "id": "63963554-e964-4942-b99e-6f9d63ff9125",
   "metadata": {},
   "source": [
    "### __2. Get text review to create word cloud posters__"
   ]
  },
  {
   "cell_type": "markdown",
   "id": "1b78db0f-bca0-487c-800b-25f3415356d7",
   "metadata": {},
   "source": [
    "<font size=\"4\">Here I am provided with text files links `ebert_review_urls list` where each file corresponds to moview review from `ebert` and the goal is to download these files and create a dataframe of three columns the title, the review url and the review text itself.</font>"
   ]
  },
  {
   "cell_type": "code",
   "execution_count": 46,
   "id": "8b1d7c44-1801-4db0-8b74-6302fbd39139",
   "metadata": {
    "jupyter": {
     "source_hidden": true
    }
   },
   "outputs": [],
   "source": [
    "ebert_review_urls = ['https://d17h27t6h515a5.cloudfront.net/topher/2017/September/59ad9900_1-the-wizard-of-oz-1939-film/1-the-wizard-of-oz-1939-film.txt',\n",
    "                     'https://d17h27t6h515a5.cloudfront.net/topher/2017/September/59ad9901_2-citizen-kane/2-citizen-kane.txt',\n",
    "                     'https://d17h27t6h515a5.cloudfront.net/topher/2017/September/59ad9901_3-the-third-man/3-the-third-man.txt',\n",
    "                     'https://d17h27t6h515a5.cloudfront.net/topher/2017/September/59ad9902_4-get-out-film/4-get-out-film.txt',\n",
    "                     'https://d17h27t6h515a5.cloudfront.net/topher/2017/September/59ad9902_5-mad-max-fury-road/5-mad-max-fury-road.txt',\n",
    "                     'https://d17h27t6h515a5.cloudfront.net/topher/2017/September/59ad9902_6-the-cabinet-of-dr.-caligari/6-the-cabinet-of-dr.-caligari.txt',\n",
    "                     'https://d17h27t6h515a5.cloudfront.net/topher/2017/September/59ad9903_7-all-about-eve/7-all-about-eve.txt',\n",
    "                     'https://d17h27t6h515a5.cloudfront.net/topher/2017/September/59ad9903_8-inside-out-2015-film/8-inside-out-2015-film.txt',\n",
    "                     'https://d17h27t6h515a5.cloudfront.net/topher/2017/September/59ad9903_9-the-godfather/9-the-godfather.txt',\n",
    "                     'https://d17h27t6h515a5.cloudfront.net/topher/2017/September/59ad9904_10-metropolis-1927-film/10-metropolis-1927-film.txt',\n",
    "                     'https://d17h27t6h515a5.cloudfront.net/topher/2017/September/59ad9904_11-e.t.-the-extra-terrestrial/11-e.t.-the-extra-terrestrial.txt',\n",
    "                     'https://d17h27t6h515a5.cloudfront.net/topher/2017/September/59ad9904_12-modern-times-film/12-modern-times-film.txt',\n",
    "                     'https://d17h27t6h515a5.cloudfront.net/topher/2017/September/59ad9904_14-singin-in-the-rain/14-singin-in-the-rain.txt',\n",
    "                     'https://d17h27t6h515a5.cloudfront.net/topher/2017/September/59ad9905_15-boyhood-film/15-boyhood-film.txt',\n",
    "                     'https://d17h27t6h515a5.cloudfront.net/topher/2017/September/59ad9905_16-casablanca-film/16-casablanca-film.txt',\n",
    "                     'https://d17h27t6h515a5.cloudfront.net/topher/2017/September/59ad9905_17-moonlight-2016-film/17-moonlight-2016-film.txt',\n",
    "                     'https://d17h27t6h515a5.cloudfront.net/topher/2017/September/59ad9906_18-psycho-1960-film/18-psycho-1960-film.txt',\n",
    "                     'https://d17h27t6h515a5.cloudfront.net/topher/2017/September/59ad9906_19-laura-1944-film/19-laura-1944-film.txt',\n",
    "                     'https://d17h27t6h515a5.cloudfront.net/topher/2017/September/59ad9906_20-nosferatu/20-nosferatu.txt',\n",
    "                     'https://d17h27t6h515a5.cloudfront.net/topher/2017/September/59ad9907_21-snow-white-and-the-seven-dwarfs-1937-film/21-snow-white-and-the-seven-dwarfs-1937-film.txt',\n",
    "                     'https://d17h27t6h515a5.cloudfront.net/topher/2017/September/59ad9907_22-a-hard-day27s-night-film/22-a-hard-day27s-night-film.txt',\n",
    "                     'https://d17h27t6h515a5.cloudfront.net/topher/2017/September/59ad9907_23-la-grande-illusion/23-la-grande-illusion.txt',\n",
    "                     'https://d17h27t6h515a5.cloudfront.net/topher/2017/September/59ad9908_25-the-battle-of-algiers/25-the-battle-of-algiers.txt',\n",
    "                     'https://d17h27t6h515a5.cloudfront.net/topher/2017/September/59ad9908_26-dunkirk-2017-film/26-dunkirk-2017-film.txt',\n",
    "                     'https://d17h27t6h515a5.cloudfront.net/topher/2017/September/59ad9908_27-the-maltese-falcon-1941-film/27-the-maltese-falcon-1941-film.txt',\n",
    "                     'https://d17h27t6h515a5.cloudfront.net/topher/2017/September/59ad9909_29-12-years-a-slave-film/29-12-years-a-slave-film.txt',\n",
    "                     'https://d17h27t6h515a5.cloudfront.net/topher/2017/September/59ad9909_30-gravity-2013-film/30-gravity-2013-film.txt',\n",
    "                     'https://d17h27t6h515a5.cloudfront.net/topher/2017/September/59ad9909_31-sunset-boulevard-film/31-sunset-boulevard-film.txt',\n",
    "                     'https://d17h27t6h515a5.cloudfront.net/topher/2017/September/59ad990a_32-king-kong-1933-film/32-king-kong-1933-film.txt',\n",
    "                     'https://d17h27t6h515a5.cloudfront.net/topher/2017/September/59ad990a_33-spotlight-film/33-spotlight-film.txt',\n",
    "                     'https://d17h27t6h515a5.cloudfront.net/topher/2017/September/59ad990a_34-the-adventures-of-robin-hood/34-the-adventures-of-robin-hood.txt',\n",
    "                     'https://d17h27t6h515a5.cloudfront.net/topher/2017/September/59ad990b_35-rashomon/35-rashomon.txt',\n",
    "                     'https://d17h27t6h515a5.cloudfront.net/topher/2017/September/59ad990b_36-rear-window/36-rear-window.txt',\n",
    "                     'https://d17h27t6h515a5.cloudfront.net/topher/2017/September/59ad990b_37-selma-film/37-selma-film.txt',\n",
    "                     'https://d17h27t6h515a5.cloudfront.net/topher/2017/September/59ad990c_38-taxi-driver/38-taxi-driver.txt',\n",
    "                     'https://d17h27t6h515a5.cloudfront.net/topher/2017/September/59ad990c_39-toy-story-3/39-toy-story-3.txt',\n",
    "                     'https://d17h27t6h515a5.cloudfront.net/topher/2017/September/59ad990c_40-argo-2012-film/40-argo-2012-film.txt',\n",
    "                     'https://d17h27t6h515a5.cloudfront.net/topher/2017/September/59ad990d_41-toy-story-2/41-toy-story-2.txt',\n",
    "                     'https://d17h27t6h515a5.cloudfront.net/topher/2017/September/59ad990d_42-the-big-sick/42-the-big-sick.txt',\n",
    "                     'https://d17h27t6h515a5.cloudfront.net/topher/2017/September/59ad990d_43-bride-of-frankenstein/43-bride-of-frankenstein.txt',\n",
    "                     'https://d17h27t6h515a5.cloudfront.net/topher/2017/September/59ad990d_44-zootopia/44-zootopia.txt',\n",
    "                     'https://d17h27t6h515a5.cloudfront.net/topher/2017/September/59ad990e_45-m-1931-film/45-m-1931-film.txt',\n",
    "                     'https://d17h27t6h515a5.cloudfront.net/topher/2017/September/59ad990e_46-wonder-woman-2017-film/46-wonder-woman-2017-film.txt',\n",
    "                     'https://d17h27t6h515a5.cloudfront.net/topher/2017/September/59ad990e_48-alien-film/48-alien-film.txt',\n",
    "                     'https://d17h27t6h515a5.cloudfront.net/topher/2017/September/59ad990f_49-bicycle-thieves/49-bicycle-thieves.txt',\n",
    "                     'https://d17h27t6h515a5.cloudfront.net/topher/2017/September/59ad990f_50-seven-samurai/50-seven-samurai.txt',\n",
    "                     'https://d17h27t6h515a5.cloudfront.net/topher/2017/September/59ad990f_51-the-treasure-of-the-sierra-madre-film/51-the-treasure-of-the-sierra-madre-film.txt',\n",
    "                     'https://d17h27t6h515a5.cloudfront.net/topher/2017/September/59ad9910_52-up-2009-film/52-up-2009-film.txt',\n",
    "                     'https://d17h27t6h515a5.cloudfront.net/topher/2017/September/59ad9910_53-12-angry-men-1957-film/53-12-angry-men-1957-film.txt',\n",
    "                     'https://d17h27t6h515a5.cloudfront.net/topher/2017/September/59ad9910_54-the-400-blows/54-the-400-blows.txt',\n",
    "                     'https://d17h27t6h515a5.cloudfront.net/topher/2017/September/59ad9911_55-logan-film/55-logan-film.txt',\n",
    "                     'https://d17h27t6h515a5.cloudfront.net/topher/2017/September/59ad9911_57-army-of-shadows/57-army-of-shadows.txt',\n",
    "                     'https://d17h27t6h515a5.cloudfront.net/topher/2017/September/59ad9912_58-arrival-film/58-arrival-film.txt',\n",
    "                     'https://d17h27t6h515a5.cloudfront.net/topher/2017/September/59ad9912_59-baby-driver/59-baby-driver.txt',\n",
    "                     'https://d17h27t6h515a5.cloudfront.net/topher/2017/September/59ad9913_60-a-streetcar-named-desire-1951-film/60-a-streetcar-named-desire-1951-film.txt',\n",
    "                     'https://d17h27t6h515a5.cloudfront.net/topher/2017/September/59ad9913_61-the-night-of-the-hunter-film/61-the-night-of-the-hunter-film.txt',\n",
    "                     'https://d17h27t6h515a5.cloudfront.net/topher/2017/September/59ad9913_62-star-wars-the-force-awakens/62-star-wars-the-force-awakens.txt',\n",
    "                     'https://d17h27t6h515a5.cloudfront.net/topher/2017/September/59ad9913_63-manchester-by-the-sea-film/63-manchester-by-the-sea-film.txt',\n",
    "                     'https://d17h27t6h515a5.cloudfront.net/topher/2017/September/59ad9914_64-dr.-strangelove/64-dr.-strangelove.txt',\n",
    "                     'https://d17h27t6h515a5.cloudfront.net/topher/2017/September/59ad9914_66-vertigo-film/66-vertigo-film.txt',\n",
    "                     'https://d17h27t6h515a5.cloudfront.net/topher/2017/September/59ad9914_67-the-dark-knight-film/67-the-dark-knight-film.txt',\n",
    "                     'https://d17h27t6h515a5.cloudfront.net/topher/2017/September/59ad9915_68-touch-of-evil/68-touch-of-evil.txt',\n",
    "                     'https://d17h27t6h515a5.cloudfront.net/topher/2017/September/59ad9915_69-the-babadook/69-the-babadook.txt',\n",
    "                     'https://d17h27t6h515a5.cloudfront.net/topher/2017/September/59ad9915_72-rosemary27s-baby-film/72-rosemary27s-baby-film.txt',\n",
    "                     'https://d17h27t6h515a5.cloudfront.net/topher/2017/September/59ad9916_73-finding-nemo/73-finding-nemo.txt',\n",
    "                     'https://d17h27t6h515a5.cloudfront.net/topher/2017/September/59ad9916_74-brooklyn-film/74-brooklyn-film.txt',\n",
    "                     'https://d17h27t6h515a5.cloudfront.net/topher/2017/September/59ad9917_75-the-wrestler-2008-film/75-the-wrestler-2008-film.txt',\n",
    "                     'https://d17h27t6h515a5.cloudfront.net/topher/2017/September/59ad9917_77-l.a.-confidential-film/77-l.a.-confidential-film.txt',\n",
    "                     'https://d17h27t6h515a5.cloudfront.net/topher/2017/September/59ad9918_78-gone-with-the-wind-film/78-gone-with-the-wind-film.txt',\n",
    "                     'https://d17h27t6h515a5.cloudfront.net/topher/2017/September/59ad9918_79-the-good-the-bad-and-the-ugly/79-the-good-the-bad-and-the-ugly.txt',\n",
    "                     'https://d17h27t6h515a5.cloudfront.net/topher/2017/September/59ad9918_80-skyfall/80-skyfall.txt',\n",
    "                     'https://d17h27t6h515a5.cloudfront.net/topher/2017/September/59ad9919_82-tokyo-story/82-tokyo-story.txt',\n",
    "                     'https://d17h27t6h515a5.cloudfront.net/topher/2017/September/59ad9919_83-hell-or-high-water-film/83-hell-or-high-water-film.txt',\n",
    "                     'https://d17h27t6h515a5.cloudfront.net/topher/2017/September/59ad9919_84-pinocchio-1940-film/84-pinocchio-1940-film.txt',\n",
    "                     'https://d17h27t6h515a5.cloudfront.net/topher/2017/September/59ad9919_85-the-jungle-book-2016-film/85-the-jungle-book-2016-film.txt',\n",
    "                     'https://d17h27t6h515a5.cloudfront.net/topher/2017/September/59ad991a_86-la-la-land-film/86-la-la-land-film.txt',\n",
    "                     'https://d17h27t6h515a5.cloudfront.net/topher/2017/September/59ad991b_87-star-trek-film/87-star-trek-film.txt',\n",
    "                     'https://d17h27t6h515a5.cloudfront.net/topher/2017/September/59ad991b_89-apocalypse-now/89-apocalypse-now.txt',\n",
    "                     'https://d17h27t6h515a5.cloudfront.net/topher/2017/September/59ad991c_90-on-the-waterfront/90-on-the-waterfront.txt',\n",
    "                     'https://d17h27t6h515a5.cloudfront.net/topher/2017/September/59ad991c_91-the-wages-of-fear/91-the-wages-of-fear.txt',\n",
    "                     'https://d17h27t6h515a5.cloudfront.net/topher/2017/September/59ad991c_92-the-last-picture-show/92-the-last-picture-show.txt',\n",
    "                     'https://d17h27t6h515a5.cloudfront.net/topher/2017/September/59ad991d_93-harry-potter-and-the-deathly-hallows-part-2/93-harry-potter-and-the-deathly-hallows-part-2.txt',\n",
    "                     'https://d17h27t6h515a5.cloudfront.net/topher/2017/September/59ad991d_94-the-grapes-of-wrath-film/94-the-grapes-of-wrath-film.txt',\n",
    "                     'https://d17h27t6h515a5.cloudfront.net/topher/2017/September/59ad991d_96-man-on-wire/96-man-on-wire.txt',\n",
    "                     'https://d17h27t6h515a5.cloudfront.net/topher/2017/September/59ad991e_97-jaws-film/97-jaws-film.txt',\n",
    "                     'https://d17h27t6h515a5.cloudfront.net/topher/2017/September/59ad991e_98-toy-story/98-toy-story.txt',\n",
    "                     'https://d17h27t6h515a5.cloudfront.net/topher/2017/September/59ad991e_99-the-godfather-part-ii/99-the-godfather-part-ii.txt',\n",
    "                     'https://d17h27t6h515a5.cloudfront.net/topher/2017/September/59ad991e_100-battleship-potemkin/100-battleship-potemkin.txt']"
   ]
  },
  {
   "cell_type": "code",
   "execution_count": 54,
   "id": "4a7e0d09-0264-4977-9296-cda3a86ba499",
   "metadata": {},
   "outputs": [],
   "source": [
    "# First download the review files over HTTP requests and save them in ebert_reviews folder\n",
    "text_reviews_foldername = 'ebert_reviews'\n",
    "if text_reviews_foldername not in os.listdir():\n",
    "    os.makedirs(text_reviews_foldername)\n",
    "\n",
    "for file_url in ebert_review_urls:\n",
    "    response = requests.get(file_url)\n",
    "    with open(os.path.join(text_reviews_foldername, file_url.split('/')[-1]), 'wb') as fp:\n",
    "        fp.write(response.content) # 'wb' because the file might contain non ascii characters\n",
    "                                    # and this would raise an error\n"
   ]
  },
  {
   "cell_type": "code",
   "execution_count": 60,
   "id": "cdabf590-66a2-4f76-87c6-657d36443562",
   "metadata": {},
   "outputs": [
    {
     "data": {
      "text/html": [
       "<div>\n",
       "<style scoped>\n",
       "    .dataframe tbody tr th:only-of-type {\n",
       "        vertical-align: middle;\n",
       "    }\n",
       "\n",
       "    .dataframe tbody tr th {\n",
       "        vertical-align: top;\n",
       "    }\n",
       "\n",
       "    .dataframe thead th {\n",
       "        text-align: right;\n",
       "    }\n",
       "</style>\n",
       "<table border=\"1\" class=\"dataframe\">\n",
       "  <thead>\n",
       "    <tr style=\"text-align: right;\">\n",
       "      <th></th>\n",
       "      <th>title</th>\n",
       "      <th>review_url</th>\n",
       "      <th>review_text</th>\n",
       "    </tr>\n",
       "  </thead>\n",
       "  <tbody>\n",
       "    <tr>\n",
       "      <th>0</th>\n",
       "      <td>The Wizard of Oz (1939)</td>\n",
       "      <td>http://www.rogerebert.com/reviews/great-movie-...</td>\n",
       "      <td>As a child I simply did not notice whether a m...</td>\n",
       "    </tr>\n",
       "    <tr>\n",
       "      <th>1</th>\n",
       "      <td>Metropolis (1927)</td>\n",
       "      <td>http://www.rogerebert.com/reviews/great-movie-...</td>\n",
       "      <td>The opening shots of the restored “Metropolis”...</td>\n",
       "    </tr>\n",
       "    <tr>\n",
       "      <th>2</th>\n",
       "      <td>Battleship Potemkin (1925)</td>\n",
       "      <td>http://www.rogerebert.com/reviews/great-movie-...</td>\n",
       "      <td>\"The Battleship Potemkin” has been so famous f...</td>\n",
       "    </tr>\n",
       "    <tr>\n",
       "      <th>3</th>\n",
       "      <td>E.T. The Extra-Terrestrial (1982)</td>\n",
       "      <td>http://www.rogerebert.com/reviews/great-movie-...</td>\n",
       "      <td>Dear Raven and Emil:\\n\\nSunday we sat on the b...</td>\n",
       "    </tr>\n",
       "    <tr>\n",
       "      <th>4</th>\n",
       "      <td>Modern Times (1936)</td>\n",
       "      <td>http://www.rogerebert.com/reviews/modern-times...</td>\n",
       "      <td>A lot of movies are said to be timeless, but s...</td>\n",
       "    </tr>\n",
       "  </tbody>\n",
       "</table>\n",
       "</div>"
      ],
      "text/plain": [
       "                               title  \\\n",
       "0            The Wizard of Oz (1939)   \n",
       "1                  Metropolis (1927)   \n",
       "2         Battleship Potemkin (1925)   \n",
       "3  E.T. The Extra-Terrestrial (1982)   \n",
       "4                Modern Times (1936)   \n",
       "\n",
       "                                          review_url  \\\n",
       "0  http://www.rogerebert.com/reviews/great-movie-...   \n",
       "1  http://www.rogerebert.com/reviews/great-movie-...   \n",
       "2  http://www.rogerebert.com/reviews/great-movie-...   \n",
       "3  http://www.rogerebert.com/reviews/great-movie-...   \n",
       "4  http://www.rogerebert.com/reviews/modern-times...   \n",
       "\n",
       "                                         review_text  \n",
       "0  As a child I simply did not notice whether a m...  \n",
       "1  The opening shots of the restored “Metropolis”...  \n",
       "2  \"The Battleship Potemkin” has been so famous f...  \n",
       "3  Dear Raven and Emil:\\n\\nSunday we sat on the b...  \n",
       "4  A lot of movies are said to be timeless, but s...  "
      ]
     },
     "execution_count": 60,
     "metadata": {},
     "output_type": "execute_result"
    }
   ],
   "source": [
    "# The next step is to parse the text files to get the desired info for the dataframe\n",
    "\n",
    "review_files = [os.path.join(text_reviews_foldername, file) for file in os.listdir(text_reviews_foldername)]\n",
    "\n",
    "lst = [] # empty list for the dataframe\n",
    "\n",
    "for file in review_files:\n",
    "    with open(file, encoding='utf-8') as fp: # as the file contains non ascii characters\n",
    "        title = fp.readline()[:-1] # to exclude the newline character '\\n'\n",
    "        review_url = fp.readline()[:-1]\n",
    "        review_text = fp.read()\n",
    "        lst.append({'title':title, \n",
    "                       'review_url':review_url, \n",
    "                       'review_text':review_text})\n",
    "        \n",
    "df = pd.DataFrame(lst)\n",
    "df.head()"
   ]
  },
  {
   "cell_type": "code",
   "execution_count": 62,
   "id": "c2951aec-7426-45c0-b41b-fcdbc9bcf35c",
   "metadata": {},
   "outputs": [],
   "source": [
    "# save the dataframe \n",
    "df.to_csv('ebert_reviews.csv', index=False)"
   ]
  },
  {
   "cell_type": "markdown",
   "id": "4e594870-6991-4ba6-a29e-417c63b384f4",
   "metadata": {},
   "source": [
    "### __3. Get the movies posters for the word cloud__"
   ]
  },
  {
   "cell_type": "markdown",
   "id": "a4bbc1b5-c0f7-4f8a-a752-f39b78188974",
   "metadata": {},
   "source": [
    "<font size=\"4\">I am gonna get them from wiki using wiki api. There two choices here whether to access the api directly or to use an access library like `wptools` which I gonna use here.\n",
    "The thing is I am gonna call the api and retrieve the wiki page of each movie in `JSON` format. Then I am gonna parse them to get the urls for the movie posters, then get them over http requests and store them in `bestofrt_posters` folder.\n",
    "Here I am provided with list of wiki pages names of each movie that passed to the api to retreive the page."
   ]
  },
  {
   "cell_type": "code",
   "execution_count": 69,
   "id": "c2b7d1f2-934c-431a-bc0e-72c4609b7037",
   "metadata": {
    "jupyter": {
     "source_hidden": true
    }
   },
   "outputs": [],
   "source": [
    "title_list = [\n",
    " 'The_Wizard_of_Oz_(1939_film)',\n",
    " 'Citizen_Kane',\n",
    " 'The_Third_Man',\n",
    " 'Get_Out_(film)',\n",
    " 'Mad_Max:_Fury_Road',\n",
    " 'The_Cabinet_of_Dr._Caligari',\n",
    " 'All_About_Eve',\n",
    " 'Inside_Out_(2015_film)',\n",
    " 'The_Godfather',\n",
    " 'Metropolis_(1927_film)',\n",
    " 'E.T._the_Extra-Terrestrial',\n",
    " 'Modern_Times_(film)',\n",
    " 'It_Happened_One_Night',\n",
    " \"Singin'_in_the_Rain\",\n",
    " 'Boyhood_(film)',\n",
    " 'Casablanca_(film)',\n",
    " 'Moonlight_(2016_film)',\n",
    " 'Psycho_(1960_film)',\n",
    " 'Laura_(1944_film)',\n",
    " 'Nosferatu',\n",
    " 'Snow_White_and_the_Seven_Dwarfs_(1937_film)',\n",
    " \"A_Hard_Day%27s_Night_(film)\",\n",
    " 'La_Grande_Illusion',\n",
    " 'North_by_Northwest',\n",
    " 'The_Battle_of_Algiers',\n",
    " 'Dunkirk_(2017_film)',\n",
    " 'The_Maltese_Falcon_(1941_film)',\n",
    " 'Repulsion_(film)',\n",
    " '12_Years_a_Slave_(film)',\n",
    " 'Gravity_(2013_film)',\n",
    " 'Sunset_Boulevard_(film)',\n",
    " 'King_Kong_(1933_film)',\n",
    " 'Spotlight_(film)',\n",
    " 'The_Adventures_of_Robin_Hood',\n",
    " 'Rashomon',\n",
    " 'Rear_Window',\n",
    " 'Selma_(film)',\n",
    " 'Taxi_Driver',\n",
    " 'Toy_Story_3',\n",
    " 'Argo_(2012_film)',\n",
    " 'Toy_Story_2',\n",
    " 'The_Big_Sick',\n",
    " 'Bride_of_Frankenstein',\n",
    " 'Zootopia',\n",
    " 'M_(1931_film)',\n",
    " 'Wonder_Woman_(2017_film)',\n",
    " 'The_Philadelphia_Story_(film)',\n",
    " 'Alien_(film)',\n",
    " 'Bicycle_Thieves',\n",
    " 'Seven_Samurai',\n",
    " 'The_Treasure_of_the_Sierra_Madre_(film)',\n",
    " 'Up_(2009_film)',\n",
    " '12_Angry_Men_(1957_film)',\n",
    " 'The_400_Blows',\n",
    " 'Logan_(film)',\n",
    " 'All_Quiet_on_the_Western_Front_(1930_film)',\n",
    " 'Army_of_Shadows',\n",
    " 'Arrival_(film)',\n",
    " 'Baby_Driver',\n",
    " 'A_Streetcar_Named_Desire_(1951_film)',\n",
    " 'The_Night_of_the_Hunter_(film)',\n",
    " 'Star_Wars:_The_Force_Awakens',\n",
    " 'Manchester_by_the_Sea_(film)',\n",
    " 'Dr._Strangelove',\n",
    " 'Frankenstein_(1931_film)',\n",
    " 'Vertigo_(film)',\n",
    " 'The_Dark_Knight_(film)',\n",
    " 'Touch_of_Evil',\n",
    " 'The_Babadook',\n",
    " 'The_Conformist_(film)',\n",
    " 'Rebecca_(1940_film)',\n",
    " \"Rosemary%27s_Baby_(film)\",\n",
    " 'Finding_Nemo',\n",
    " 'Brooklyn_(film)',\n",
    " 'The_Wrestler_(2008_film)',\n",
    " 'The_39_Steps_(1935_film)',\n",
    " 'L.A._Confidential_(film)',\n",
    " 'Gone_with_the_Wind_(film)',\n",
    " 'The_Good,_the_Bad_and_the_Ugly',\n",
    " 'Skyfall',\n",
    " 'Rome,_Open_City',\n",
    " 'Tokyo_Story',\n",
    " 'Hell_or_High_Water_(film)',\n",
    " 'Pinocchio_(1940_film)',\n",
    " 'The_Jungle_Book_(2016_film)',\n",
    " 'La_La_Land_(film)',\n",
    " 'Star_Trek_(film)',\n",
    " 'High_Noon',\n",
    " 'Apocalypse_Now',\n",
    " 'On_the_Waterfront',\n",
    " 'The_Wages_of_Fear',\n",
    " 'The_Last_Picture_Show',\n",
    " 'Harry_Potter_and_the_Deathly_Hallows_–_Part_2',\n",
    " 'The_Grapes_of_Wrath_(film)',\n",
    " 'Roman_Holiday',\n",
    " 'Man_on_Wire',\n",
    " 'Jaws_(film)',\n",
    " 'Toy_Story',\n",
    " 'The_Godfather_Part_II',\n",
    " 'Battleship_Potemkin'\n",
    "]"
   ]
  },
  {
   "cell_type": "code",
   "execution_count": 73,
   "id": "3672a219-3f39-4bd3-adfc-31ef29e52745",
   "metadata": {},
   "outputs": [
    {
     "name": "stdout",
     "output_type": "stream",
     "text": [
      "10_Metropolis_(1927_film): https://en.wikipedia.org/w/api.php?action=query&exintro&formatversion=2&inprop=url|watchers&list=random&pithumbsize=240&pllimit=500&ppprop=disambiguation|wikibase_item&prop=extracts|info|links|pageassessments|pageimages|pageprops|pageterms|redirects&redirects&rdlimit=500&rnlimit=1&rnnamespace=0&titles=Metropolis%20%281927%20film%29&plcontinue=49696|0|Mah_Nà_Mah_Nà\n",
      "15_Boyhood_(film): 'image'\n"
     ]
    },
    {
     "name": "stderr",
     "output_type": "stream",
     "text": [
      "API error: {'code': 'invalidtitle', 'info': 'Bad title \"A_Hard_Day%27s_Night_(film)\".', 'docref': 'See https://en.wikipedia.org/w/api.php for API usage. Subscribe to the mediawiki-api-announce mailing list at &lt;https://lists.wikimedia.org/postorius/lists/mediawiki-api-announce.lists.wikimedia.org/&gt; for notice of API deprecations and breaking changes.'}\n"
     ]
    },
    {
     "name": "stdout",
     "output_type": "stream",
     "text": [
      "22_A_Hard_Day%27s_Night_(film): https://en.wikipedia.org/w/api.php?action=parse&formatversion=2&contentmodel=text&disableeditsection=&disablelimitreport=&disabletoc=&prop=text|iwlinks|parsetree|wikitext|displaytitle|properties&redirects&page=A_Hard_Day%2527s_Night_%28film%29\n",
      "67_The_Dark_Knight_(film): https://en.wikipedia.org/w/api.php?action=query&exintro&formatversion=2&inprop=url|watchers&list=random&pithumbsize=240&pllimit=500&ppprop=disambiguation|wikibase_item&prop=extracts|info|links|pageassessments|pageimages|pageprops|pageterms|redirects&redirects&rdlimit=500&rnlimit=1&rnnamespace=0&titles=The%20Dark%20Knight&plcontinue=4276475|0|Timothée_Chalamet\n"
     ]
    },
    {
     "name": "stderr",
     "output_type": "stream",
     "text": [
      "API error: {'code': 'invalidtitle', 'info': 'Bad title \"Rosemary%27s_Baby_(film)\".', 'docref': 'See https://en.wikipedia.org/w/api.php for API usage. Subscribe to the mediawiki-api-announce mailing list at &lt;https://lists.wikimedia.org/postorius/lists/mediawiki-api-announce.lists.wikimedia.org/&gt; for notice of API deprecations and breaking changes.'}\n"
     ]
    },
    {
     "name": "stdout",
     "output_type": "stream",
     "text": [
      "72_Rosemary%27s_Baby_(film): https://en.wikipedia.org/w/api.php?action=parse&formatversion=2&contentmodel=text&disableeditsection=&disablelimitreport=&disabletoc=&prop=text|iwlinks|parsetree|wikitext|displaytitle|properties&redirects&page=Rosemary%2527s_Baby_%28film%29\n",
      "87_Star_Trek_(film): cannot identify image file <_io.BytesIO object at 0x00000161B6FDEAC0>\n"
     ]
    }
   ],
   "source": [
    "posters_foldername = 'bestofrt_posters'\n",
    "if posters_foldername not in os.listdir():\n",
    "    os.makedirs(posters_foldername)\n",
    "\n",
    "df_list = []\n",
    "image_errors = {} # to append failed requests\n",
    "# Not to get 403 status code pass this header to the http request\n",
    "headers = {\n",
    "    'User-Agent': 'Mozilla/5.0 (Windows NT 10.0; Win64; x64) AppleWebKit/537.36 (KHTML, like Gecko) Chrome/58.0.3029.110 Safari/537.3'\n",
    "}\n",
    "\n",
    "for rank, movie in enumerate(title_list):\n",
    "    try:\n",
    "        page = wptools.page(movie, silent=True).get()\n",
    "        img_url = page.data['image'][0]['url']  # page.data is dictionary\n",
    "        img = requests.get(img_url, headers=headers) # get the image over http\n",
    "\n",
    "        '''\n",
    "        if img.status_code != 200:\n",
    "            print(f'could not get {movie}')\n",
    "            continue\n",
    "        '''\n",
    "        i = Image.open(BytesIO(img.content))\n",
    "        img_format = img_url.split('.')[-1]\n",
    "        i.save(os.path.join(posters_foldername, str(rank+1)+'_'+movie+'.'+img_format))\n",
    "        df_list.append({'ranking':rank+1, \n",
    "                        'title': movie, \n",
    "                        'poster_url':img_url})\n",
    "    except Exception as e:\n",
    "        print(str(rank+1) + \"_\" + movie + \": \" + str(e))\n",
    "        try:\n",
    "            image_errors[movie] = page.data['image']\n",
    "        except:\n",
    "            image_errors[movie] = page.data\n",
    "        "
   ]
  },
  {
   "cell_type": "markdown",
   "id": "71358eb1-d61c-4fc1-ab84-cbba94daa8bb",
   "metadata": {},
   "source": [
    "<font size=\"5\">Issues need to be fixed manually</font>"
   ]
  },
  {
   "cell_type": "code",
   "execution_count": 79,
   "id": "6f3e9a2c-a1d8-4eb0-8873-b75c96c29199",
   "metadata": {},
   "outputs": [],
   "source": [
    "for title, _ in image_errors.items():\n",
    "    if title == 'Metropolis_(1927_film)':\n",
    "        url = 'https://upload.wikimedia.org/wikipedia/en/9/97/Metropolis_%28German_three-sheet_poster%29.jpg'\n",
    "    if title == 'Boyhood_(film)':\n",
    "        url = 'https://upload.wikimedia.org/wikipedia/en/a/a6/Boyhood_%282014%29.png'\n",
    "\n",
    "    if title == 'A_Hard_Day%27s_Night_(film)':\n",
    "        url = 'https://upload.wikimedia.org/wikipedia/en/4/47/A_Hard_Days_night_movieposter.jpg'\n",
    "\n",
    "    if title == 'The_Dark_Knight_(film)':\n",
    "        url = 'https://upload.wikimedia.org/wikipedia/en/1/1c/The_Dark_Knight_%282008_film%29.jpg'\n",
    "\n",
    "    if title == 'Rosemary%27s_Baby_(film)':\n",
    "        url = 'https://upload.wikimedia.org/wikipedia/en/e/ef/Rosemarys_baby_poster.jpg'\n",
    "\n",
    "    if title == 'Star_Trek_(film)':\n",
    "        url = 'https://upload.wikimedia.org/wikipedia/commons/4/4b/Star_trek_the_motion_picture_logo.png'\n",
    "        \n",
    "    \n",
    "    rank = int(title_list.index(title)+1)\n",
    "    df_list.append({'ranking': rank, \n",
    "                    'title': title[3:], \n",
    "                    'poster_url': url})\n",
    "    r = requests.get(url, headers=headers)\n",
    "    # Download movie poster image\n",
    "    i = Image.open(BytesIO(r.content))\n",
    "    image_file_format = url.split('.')[-1]\n",
    "    i.save(posters_foldername + \"/\" + str(rank)+'_'+title + '.' + image_file_format)\n",
    "    "
   ]
  },
  {
   "cell_type": "code",
   "execution_count": 81,
   "id": "ffbb754b-aae5-47fd-99dd-ec9042cfd481",
   "metadata": {},
   "outputs": [
    {
     "data": {
      "text/html": [
       "<div>\n",
       "<style scoped>\n",
       "    .dataframe tbody tr th:only-of-type {\n",
       "        vertical-align: middle;\n",
       "    }\n",
       "\n",
       "    .dataframe tbody tr th {\n",
       "        vertical-align: top;\n",
       "    }\n",
       "\n",
       "    .dataframe thead th {\n",
       "        text-align: right;\n",
       "    }\n",
       "</style>\n",
       "<table border=\"1\" class=\"dataframe\">\n",
       "  <thead>\n",
       "    <tr style=\"text-align: right;\">\n",
       "      <th></th>\n",
       "      <th>ranking</th>\n",
       "      <th>title</th>\n",
       "      <th>poster_url</th>\n",
       "    </tr>\n",
       "  </thead>\n",
       "  <tbody>\n",
       "    <tr>\n",
       "      <th>0</th>\n",
       "      <td>1</td>\n",
       "      <td>The_Wizard_of_Oz_(1939_film)</td>\n",
       "      <td>https://upload.wikimedia.org/wikipedia/commons...</td>\n",
       "    </tr>\n",
       "    <tr>\n",
       "      <th>1</th>\n",
       "      <td>2</td>\n",
       "      <td>Citizen_Kane</td>\n",
       "      <td>https://upload.wikimedia.org/wikipedia/commons...</td>\n",
       "    </tr>\n",
       "    <tr>\n",
       "      <th>2</th>\n",
       "      <td>3</td>\n",
       "      <td>The_Third_Man</td>\n",
       "      <td>https://upload.wikimedia.org/wikipedia/commons...</td>\n",
       "    </tr>\n",
       "    <tr>\n",
       "      <th>3</th>\n",
       "      <td>4</td>\n",
       "      <td>Get_Out_(film)</td>\n",
       "      <td>https://upload.wikimedia.org/wikipedia/en/a/a3...</td>\n",
       "    </tr>\n",
       "    <tr>\n",
       "      <th>4</th>\n",
       "      <td>5</td>\n",
       "      <td>Mad_Max:_Fury_Road</td>\n",
       "      <td>https://upload.wikimedia.org/wikipedia/en/6/6e...</td>\n",
       "    </tr>\n",
       "  </tbody>\n",
       "</table>\n",
       "</div>"
      ],
      "text/plain": [
       "   ranking                         title  \\\n",
       "0        1  The_Wizard_of_Oz_(1939_film)   \n",
       "1        2                  Citizen_Kane   \n",
       "2        3                 The_Third_Man   \n",
       "3        4                Get_Out_(film)   \n",
       "4        5            Mad_Max:_Fury_Road   \n",
       "\n",
       "                                          poster_url  \n",
       "0  https://upload.wikimedia.org/wikipedia/commons...  \n",
       "1  https://upload.wikimedia.org/wikipedia/commons...  \n",
       "2  https://upload.wikimedia.org/wikipedia/commons...  \n",
       "3  https://upload.wikimedia.org/wikipedia/en/a/a3...  \n",
       "4  https://upload.wikimedia.org/wikipedia/en/6/6e...  "
      ]
     },
     "execution_count": 81,
     "metadata": {},
     "output_type": "execute_result"
    }
   ],
   "source": [
    "df = pd.DataFrame(df_list)\n",
    "df.head()"
   ]
  },
  {
   "cell_type": "code",
   "execution_count": 83,
   "id": "da000544-926d-4cc2-9433-3fe1f71d3386",
   "metadata": {},
   "outputs": [],
   "source": [
    "df.to_csv('posters.tsv', sep='\\t', index=False)"
   ]
  },
  {
   "cell_type": "markdown",
   "id": "8dbe0e0c-33cd-42ec-8f7e-9742aad5eb99",
   "metadata": {},
   "source": [
    "# __Assessing The Data__"
   ]
  },
  {
   "cell_type": "code",
   "execution_count": 89,
   "id": "9f77cfb0-5be5-42e9-8869-84584a01637d",
   "metadata": {},
   "outputs": [
    {
     "data": {
      "text/plain": [
       "ranking                       0\n",
       "critic_score                  0\n",
       "title                         0\n",
       "number_of_critic_ratings      0\n",
       "audience_score                3\n",
       "number_of_audience_ratings    3\n",
       "dtype: int64"
      ]
     },
     "execution_count": 89,
     "metadata": {},
     "output_type": "execute_result"
    }
   ],
   "source": [
    "bestofrt_df = pd.read_csv('critic_audience_ratings.csv')\n",
    "bestofrt_df.isnull().sum()"
   ]
  },
  {
   "cell_type": "code",
   "execution_count": 108,
   "id": "b7f97d53-e119-4419-a03b-a52dd78ba9df",
   "metadata": {},
   "outputs": [
    {
     "name": "stdout",
     "output_type": "stream",
     "text": [
      "<class 'pandas.core.frame.DataFrame'>\n",
      "RangeIndex: 100 entries, 0 to 99\n",
      "Data columns (total 6 columns):\n",
      " #   Column                      Non-Null Count  Dtype  \n",
      "---  ------                      --------------  -----  \n",
      " 0   ranking                     100 non-null    int64  \n",
      " 1   critic_score                100 non-null    int64  \n",
      " 2   title                       100 non-null    object \n",
      " 3   number_of_critic_ratings    100 non-null    int64  \n",
      " 4   audience_score              97 non-null     float64\n",
      " 5   number_of_audience_ratings  97 non-null     float64\n",
      "dtypes: float64(2), int64(3), object(1)\n",
      "memory usage: 4.8+ KB\n"
     ]
    }
   ],
   "source": [
    "bestofrt_df.info()"
   ]
  },
  {
   "cell_type": "code",
   "execution_count": 91,
   "id": "39d61b73-806f-4a5e-8f2c-9a49d7322b3f",
   "metadata": {},
   "outputs": [
    {
     "data": {
      "text/plain": [
       "100"
      ]
     },
     "execution_count": 91,
     "metadata": {},
     "output_type": "execute_result"
    }
   ],
   "source": [
    "bestofrt_df['ranking'].nunique()"
   ]
  },
  {
   "cell_type": "code",
   "execution_count": 93,
   "id": "a68db3dc-dd1c-4d81-adcb-63f3d3abd080",
   "metadata": {},
   "outputs": [
    {
     "data": {
      "text/plain": [
       "(101, 3)"
      ]
     },
     "execution_count": 93,
     "metadata": {},
     "output_type": "execute_result"
    }
   ],
   "source": [
    "posters_df = pd.read_csv('posters.tsv', sep='\\t')\n",
    "posters_df.shape"
   ]
  },
  {
   "cell_type": "code",
   "execution_count": 97,
   "id": "6904b13b-051f-415e-be85-e12dda9b3da5",
   "metadata": {},
   "outputs": [
    {
     "data": {
      "text/plain": [
       "1"
      ]
     },
     "execution_count": 97,
     "metadata": {},
     "output_type": "execute_result"
    }
   ],
   "source": [
    "posters_df.duplicated().sum()"
   ]
  },
  {
   "cell_type": "code",
   "execution_count": null,
   "id": "1b4497ae-a8cb-4ba4-a973-230173db0b5b",
   "metadata": {},
   "outputs": [],
   "source": []
  },
  {
   "cell_type": "code",
   "execution_count": 99,
   "id": "7a34cddd-5cbb-4f36-96b9-0f3bdea6892b",
   "metadata": {},
   "outputs": [
    {
     "name": "stdout",
     "output_type": "stream",
     "text": [
      "<class 'pandas.core.frame.DataFrame'>\n",
      "RangeIndex: 101 entries, 0 to 100\n",
      "Data columns (total 3 columns):\n",
      " #   Column      Non-Null Count  Dtype \n",
      "---  ------      --------------  ----- \n",
      " 0   ranking     101 non-null    int64 \n",
      " 1   title       101 non-null    object\n",
      " 2   poster_url  101 non-null    object\n",
      "dtypes: int64(1), object(2)\n",
      "memory usage: 2.5+ KB\n"
     ]
    }
   ],
   "source": [
    "posters_df.info()"
   ]
  },
  {
   "cell_type": "code",
   "execution_count": 101,
   "id": "6805f821-1cb2-4729-9f2a-9ccc0d64d697",
   "metadata": {},
   "outputs": [
    {
     "data": {
      "text/plain": [
       "(88, 3)"
      ]
     },
     "execution_count": 101,
     "metadata": {},
     "output_type": "execute_result"
    }
   ],
   "source": [
    "ebert_reviews_df = pd.read_csv('ebert_reviews.csv')\n",
    "ebert_reviews_df.shape"
   ]
  },
  {
   "cell_type": "code",
   "execution_count": 103,
   "id": "01fbdbfc-8f8c-46eb-8be7-5dd774863b5c",
   "metadata": {},
   "outputs": [
    {
     "data": {
      "text/plain": [
       "title          0\n",
       "review_url     0\n",
       "review_text    0\n",
       "dtype: int64"
      ]
     },
     "execution_count": 103,
     "metadata": {},
     "output_type": "execute_result"
    }
   ],
   "source": [
    "ebert_reviews_df.isnull().sum()"
   ]
  },
  {
   "cell_type": "markdown",
   "id": "497c8966-f6bc-45a8-949d-b7f9af2afdc1",
   "metadata": {},
   "source": [
    "# __Cleaning Data__"
   ]
  },
  {
   "cell_type": "code",
   "execution_count": 106,
   "id": "4a034053-f3c0-4737-b85b-091e0898f132",
   "metadata": {},
   "outputs": [],
   "source": [
    "posters_df.drop_duplicates(inplace=True)"
   ]
  },
  {
   "cell_type": "code",
   "execution_count": 110,
   "id": "cb028d0d-7a26-460f-bef8-4521623b1ce9",
   "metadata": {
    "scrolled": true
   },
   "outputs": [
    {
     "name": "stdout",
     "output_type": "stream",
     "text": [
      "<class 'pandas.core.frame.DataFrame'>\n",
      "RangeIndex: 100 entries, 0 to 99\n",
      "Data columns (total 8 columns):\n",
      " #   Column                      Non-Null Count  Dtype  \n",
      "---  ------                      --------------  -----  \n",
      " 0   ranking                     100 non-null    int64  \n",
      " 1   critic_score                100 non-null    int64  \n",
      " 2   title_x                     100 non-null    object \n",
      " 3   number_of_critic_ratings    100 non-null    int64  \n",
      " 4   audience_score              97 non-null     float64\n",
      " 5   number_of_audience_ratings  97 non-null     float64\n",
      " 6   title_y                     100 non-null    object \n",
      " 7   poster_url                  100 non-null    object \n",
      "dtypes: float64(2), int64(3), object(3)\n",
      "memory usage: 6.4+ KB\n"
     ]
    }
   ],
   "source": [
    "bestofrt_posters_df = bestofrt_df.merge(posters_df, on='ranking', how='left')\n",
    "bestofrt_posters_df.info()"
   ]
  },
  {
   "cell_type": "code",
   "execution_count": 112,
   "id": "cbb5243b-037b-4f4a-b341-856cb8310c5f",
   "metadata": {},
   "outputs": [],
   "source": [
    "bestofrt_posters_df = bestofrt_posters_df.rename(columns={'title_x':'title'})"
   ]
  },
  {
   "cell_type": "code",
   "execution_count": 116,
   "id": "3823461b-e092-4e44-9365-6b6d0e252259",
   "metadata": {},
   "outputs": [
    {
     "name": "stdout",
     "output_type": "stream",
     "text": [
      "<class 'pandas.core.frame.DataFrame'>\n",
      "RangeIndex: 100 entries, 0 to 99\n",
      "Data columns (total 10 columns):\n",
      " #   Column                      Non-Null Count  Dtype  \n",
      "---  ------                      --------------  -----  \n",
      " 0   ranking                     100 non-null    int64  \n",
      " 1   critic_score                100 non-null    int64  \n",
      " 2   title                       100 non-null    object \n",
      " 3   number_of_critic_ratings    100 non-null    int64  \n",
      " 4   audience_score              97 non-null     float64\n",
      " 5   number_of_audience_ratings  97 non-null     float64\n",
      " 6   title_y                     100 non-null    object \n",
      " 7   poster_url                  100 non-null    object \n",
      " 8   review_url                  88 non-null     object \n",
      " 9   review_text                 88 non-null     object \n",
      "dtypes: float64(2), int64(3), object(5)\n",
      "memory usage: 7.9+ KB\n"
     ]
    }
   ],
   "source": [
    "bestofrt_posters_reviews_df = bestofrt_posters_df.merge(ebert_reviews_df, on='title', how='left')\n",
    "bestofrt_posters_reviews_df.info()"
   ]
  },
  {
   "cell_type": "code",
   "execution_count": 118,
   "id": "11ccdad1-a57a-4ed8-916d-fb9236ff5bc7",
   "metadata": {},
   "outputs": [],
   "source": [
    "bestofrt_posters_reviews_df.to_csv('complete_dataset.csv', index=False)"
   ]
  },
  {
   "cell_type": "markdown",
   "id": "f1e4c96d-6dbb-4afd-8799-c880c6d3095b",
   "metadata": {},
   "source": [
    "# __The Word Cloud__"
   ]
  },
  {
   "cell_type": "code",
   "execution_count": 127,
   "id": "3c0d2984-f2c1-4580-a56d-607e8dc9b55a",
   "metadata": {},
   "outputs": [],
   "source": [
    "wordcloud_foldername = 'Wordclouds_posters'\n",
    "if wordcloud_foldername not in os.listdir():\n",
    "    os.makedirs(wordcloud_foldername)\n",
    "\n",
    "df = pd.read_csv('complete_dataset.csv', usecols=['ranking', 'review_text'])\n",
    "df.set_index('ranking', inplace=True)"
   ]
  },
  {
   "cell_type": "code",
   "execution_count": 129,
   "id": "7925c869-3a8d-442c-88af-15836be4ede8",
   "metadata": {},
   "outputs": [
    {
     "data": {
      "text/plain": [
       "review_text    12\n",
       "dtype: int64"
      ]
     },
     "execution_count": 129,
     "metadata": {},
     "output_type": "execute_result"
    }
   ],
   "source": [
    "df.isnull().sum()"
   ]
  },
  {
   "cell_type": "code",
   "execution_count": 131,
   "id": "94a62cc2-bd08-49fe-ba88-ddb6f9e24247",
   "metadata": {},
   "outputs": [],
   "source": [
    "df.dropna(inplace=True)"
   ]
  },
  {
   "cell_type": "code",
   "execution_count": 133,
   "id": "6e455120-dcb4-4f28-aa92-33b4580deebb",
   "metadata": {},
   "outputs": [
    {
     "data": {
      "text/plain": [
       "review_text    0\n",
       "dtype: int64"
      ]
     },
     "execution_count": 133,
     "metadata": {},
     "output_type": "execute_result"
    }
   ],
   "source": [
    "df.isnull().sum()"
   ]
  },
  {
   "cell_type": "code",
   "execution_count": 141,
   "id": "fa04c06e-d07a-4b6b-b42a-d210bbb9bf34",
   "metadata": {},
   "outputs": [],
   "source": [
    "# Rename the poster file names to ease parsing\n",
    "posters_foldername = 'bestofrt_posters'\n",
    "masks = os.listdir(posters_foldername)\n",
    "for file in masks:\n",
    "    if file[:3].isdecimal():\n",
    "        continue\n",
    "    elif file[:2].isdecimal():\n",
    "        os.rename(os.path.join(posters_foldername, file), os.path.join(posters_foldername, '0'+file))\n",
    "    elif file[:1].isdecimal():\n",
    "        os.rename(os.path.join(posters_foldername, file), os.path.join(posters_foldername, '00'+file))\n"
   ]
  },
  {
   "cell_type": "code",
   "execution_count": 143,
   "id": "758cf46e-eca8-4c3d-8cee-648ac7357833",
   "metadata": {},
   "outputs": [],
   "source": [
    "def get_wordcloud(img, output_path, new_size, review_text):\n",
    "    \n",
    "    # Create a new image with the desired size and a white background\n",
    "    new_img = Image.new(\"RGB\", new_size, (0, 0, 0))\n",
    "    mask_img = Image.new(\"RGB\", img.size, (255, 255, 255))\n",
    "    # Calculate the position to paste the original image onto the new image\n",
    "    img.thumbnail(new_size)  # Resize the image while maintaining aspect ratio\n",
    "    x = (new_size[0] - img.width) // 2\n",
    "    y = (new_size[1] - img.height) // 2\n",
    "\n",
    "    # Paste the original image onto the new image\n",
    "    #new_img.paste(img, (x, y))\n",
    "    new_img.paste(mask_img, (x, y))\n",
    "\n",
    "\n",
    "    poster_mask = np.array(new_img)\n",
    "    wordcloud = WordCloud(width=800, height=400, background_color='white', mask=poster_mask, contour_width=3, contour_color='black').generate(review_text)\n",
    "    # Convert the WordCloud object to a PIL Image\n",
    "    wordcloud_image = wordcloud.to_image()\n",
    "\n",
    "\n",
    "    \n",
    "    wordcloud_image.paste(img, (x, y))\n",
    "    # Save the reshaped image\n",
    "    wordcloud_image.save(output_path)\n",
    "\n",
    "\n"
   ]
  },
  {
   "cell_type": "code",
   "execution_count": null,
   "id": "517647a2-ffa0-4e78-bdf2-383afcff93a6",
   "metadata": {},
   "outputs": [],
   "source": [
    "masks = os.listdir(posters_foldername)\n",
    "\n",
    "for poster in masks:\n",
    "    try:\n",
    "        poster_mask = Image.open(os.path.join(posters_foldername, poster))\n",
    "        rank = int(poster[:3])\n",
    "        review_text = df.loc[rank]['review_text']\n",
    "    \n",
    "        get_wordcloud(poster_mask, os.path.join(wordcloud_foldername, poster), (400, 600), review_text)\n",
    "    except:\n",
    "        print(f'could not open {poster}')"
   ]
  },
  {
   "cell_type": "markdown",
   "id": "d19241a9-66eb-472a-9dc9-8f8458288697",
   "metadata": {},
   "source": [
    "# __TODO:__ Enhance Image Processing"
   ]
  }
 ],
 "metadata": {
  "kernelspec": {
   "display_name": "Python 3 (ipykernel)",
   "language": "python",
   "name": "python3"
  },
  "language_info": {
   "codemirror_mode": {
    "name": "ipython",
    "version": 3
   },
   "file_extension": ".py",
   "mimetype": "text/x-python",
   "name": "python",
   "nbconvert_exporter": "python",
   "pygments_lexer": "ipython3",
   "version": "3.12.4"
  }
 },
 "nbformat": 4,
 "nbformat_minor": 5
}
